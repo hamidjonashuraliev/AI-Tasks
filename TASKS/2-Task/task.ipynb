{
 "cells": [
  {
   "cell_type": "markdown",
   "id": "462d0443",
   "metadata": {},
   "source": [
    "# Data Type\n"
   ]
  },
  {
   "cell_type": "code",
   "execution_count": 2,
   "id": "7f463f02",
   "metadata": {},
   "outputs": [
    {
     "data": {
      "text/plain": [
       "int"
      ]
     },
     "execution_count": 2,
     "metadata": {},
     "output_type": "execute_result"
    }
   ],
   "source": [
    "#int\n",
    "# 2,23,2025,-45\n",
    "a=3\n",
    "type(a)"
   ]
  },
  {
   "cell_type": "code",
   "execution_count": 4,
   "id": "65f73e5b",
   "metadata": {},
   "outputs": [
    {
     "data": {
      "text/plain": [
       "float"
      ]
     },
     "execution_count": 4,
     "metadata": {},
     "output_type": "execute_result"
    }
   ],
   "source": [
    "#float\n",
    "b=0.21\n",
    "type(b)"
   ]
  },
  {
   "cell_type": "code",
   "execution_count": 5,
   "id": "e6fd6f1e",
   "metadata": {},
   "outputs": [
    {
     "data": {
      "text/plain": [
       "str"
      ]
     },
     "execution_count": 5,
     "metadata": {},
     "output_type": "execute_result"
    }
   ],
   "source": [
    "#string\n",
    "s='hello'\n",
    "type(s)"
   ]
  },
  {
   "cell_type": "code",
   "execution_count": 7,
   "id": "372ca910",
   "metadata": {},
   "outputs": [
    {
     "data": {
      "text/plain": [
       "str"
      ]
     },
     "execution_count": 7,
     "metadata": {},
     "output_type": "execute_result"
    }
   ],
   "source": [
    "c='100'\n",
    "type(c)"
   ]
  },
  {
   "cell_type": "code",
   "execution_count": 8,
   "id": "9e15440f",
   "metadata": {},
   "outputs": [
    {
     "data": {
      "text/plain": [
       "False"
      ]
     },
     "execution_count": 8,
     "metadata": {},
     "output_type": "execute_result"
    }
   ],
   "source": [
    "#Boolean(True,False)\n",
    "a=-22\n",
    "a>0"
   ]
  },
  {
   "cell_type": "code",
   "execution_count": null,
   "id": "b6e2297a",
   "metadata": {},
   "outputs": [],
   "source": [
    "# Operations"
   ]
  },
  {
   "cell_type": "code",
   "execution_count": null,
   "id": "06d9a94d",
   "metadata": {},
   "outputs": [],
   "source": [
    "+,-,/,*,**,//,%"
   ]
  },
  {
   "cell_type": "code",
   "execution_count": 9,
   "id": "b48e24f8",
   "metadata": {},
   "outputs": [
    {
     "name": "stdout",
     "output_type": "stream",
     "text": [
      "149\n",
      "51\n",
      "4900\n",
      "2.0408163265306123\n"
     ]
    }
   ],
   "source": [
    "a=100\n",
    "b=49\n",
    "print(a+b)\n",
    "print(a-b)\n",
    "print(a*b)\n",
    "print(a/b)"
   ]
  },
  {
   "cell_type": "code",
   "execution_count": 10,
   "id": "98428965",
   "metadata": {},
   "outputs": [
    {
     "name": "stdout",
     "output_type": "stream",
     "text": [
      "2\n"
     ]
    }
   ],
   "source": [
    "print(a//b)   #butun qismini oladi"
   ]
  },
  {
   "cell_type": "code",
   "execution_count": null,
   "id": "9bc3c27a",
   "metadata": {},
   "outputs": [
    {
     "name": "stdout",
     "output_type": "stream",
     "text": [
      "2\n"
     ]
    }
   ],
   "source": [
    "a=100\n",
    "b=49\n",
    "print(a%b) # bo'lingandagi qoldiq"
   ]
  },
  {
   "cell_type": "code",
   "execution_count": null,
   "id": "dde677f9",
   "metadata": {},
   "outputs": [
    {
     "name": "stdout",
     "output_type": "stream",
     "text": [
      "100000000000000000000000000000000000000000000000000000000000000000000000000000000000000000000000000\n"
     ]
    }
   ],
   "source": [
    "a=100\n",
    "b=49\n",
    "print(a**b)  #bunda a ning darajasida b boladi"
   ]
  },
  {
   "cell_type": "markdown",
   "id": "d44716a5",
   "metadata": {},
   "source": [
    "# data bilan tanishuv\n"
   ]
  },
  {
   "cell_type": "code",
   "execution_count": null,
   "id": "deb19e9d",
   "metadata": {},
   "outputs": [],
   "source": [
    "#pandas"
   ]
  },
  {
   "cell_type": "code",
   "execution_count": null,
   "id": "92bcf740",
   "metadata": {},
   "outputs": [],
   "source": [
    "#Kutubxonalarni install qilish\n",
    "#1 !pip install pandas\n",
    "#2 %pip install pandas\n",
    "#3 teminalda shuni yozish orqali\n",
    "\n",
    "\n",
    "#4 import pandas as pd bunda import qilib olinadi"
   ]
  }
 ],
 "metadata": {
  "kernelspec": {
   "display_name": "Python 3",
   "language": "python",
   "name": "python3"
  },
  "language_info": {
   "codemirror_mode": {
    "name": "ipython",
    "version": 3
   },
   "file_extension": ".py",
   "mimetype": "text/x-python",
   "name": "python",
   "nbconvert_exporter": "python",
   "pygments_lexer": "ipython3",
   "version": "3.13.7"
  }
 },
 "nbformat": 4,
 "nbformat_minor": 5
}
