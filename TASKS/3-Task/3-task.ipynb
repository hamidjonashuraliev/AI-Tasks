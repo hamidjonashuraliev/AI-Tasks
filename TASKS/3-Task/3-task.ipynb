{
 "cells": [
  {
   "cell_type": "code",
   "execution_count": null,
   "id": "e5a7e9b6",
   "metadata": {},
   "outputs": [],
   "source": [
    "#Vazifa\n",
    "# Beilgan sonni musnat  yoki manfiy ekanligini if yordamida aniqlang\n",
    "#Berilgan sonni juft yoki toq ekanligini aniqlang\n",
    "# Berigan so'zni boshi va oxirgi xarfini toping\n",
    "# Berigan so'zni boshidan 2 chi va oxiridan ikkinchi xarfni toping"
   ]
  },
  {
   "cell_type": "code",
   "execution_count": null,
   "id": "e79ee2aa",
   "metadata": {},
   "outputs": [],
   "source": [
    "son=int(input('sonni kiriting:'))\n",
    "if son>0:\n",
    "    print('musbat')\n",
    "else:\n",
    "    print('manfiy')"
   ]
  },
  {
   "cell_type": "code",
   "execution_count": null,
   "id": "88c48962",
   "metadata": {},
   "outputs": [],
   "source": [
    "son = int(input('sonni kiriting:'))\n",
    "if son % 2 == 0:\n",
    " print('juft')\n",
    "else:\n",
    " print('toq')"
   ]
  },
  {
   "cell_type": "code",
   "execution_count": null,
   "id": "0cdd5c2d",
   "metadata": {},
   "outputs": [],
   "source": [
    "# birinchi harf\n",
    "#oxirgi harf\n",
    "matn = input('matn yozing')\n",
    "birinchi_harf = matn[0]\n",
    "oxirgi_harf = matn[-1]\n",
    "\n",
    "print('birinchi_harf:', birinchi_harf)\n",
    "print('oxirgi_harf:', oxirgi_harf)"
   ]
  },
  {
   "cell_type": "code",
   "execution_count": null,
   "id": "511d3eef",
   "metadata": {},
   "outputs": [],
   "source": [
    "# ikkinchi harf\n",
    "#oxirgi ikkinchi harf\n",
    "matn = input('matn yozing')\n",
    "ikkinchi_harf = matn[1]\n",
    "oxirgi_ikkinchi_harf = matn[-2]\n",
    "\n",
    "print('ikkinchi_harf:', ikkinchi_harf)\n",
    "print('oxirgi_ikkinchi_harf:', oxirgi_ikkinchi_harf)"
   ]
  }
 ],
 "metadata": {
  "language_info": {
   "name": "python"
  }
 },
 "nbformat": 4,
 "nbformat_minor": 5
}
